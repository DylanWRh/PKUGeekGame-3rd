{
 "cells": [
  {
   "cell_type": "code",
   "execution_count": 4,
   "metadata": {},
   "outputs": [],
   "source": [
    "from mt19937predictor import MT19937Predictor\n",
    "from random import Random"
   ]
  },
  {
   "cell_type": "code",
   "execution_count": 5,
   "metadata": {},
   "outputs": [],
   "source": [
    "predictor = MT19937Predictor()"
   ]
  },
  {
   "cell_type": "code",
   "execution_count": 6,
   "metadata": {},
   "outputs": [
    {
     "name": "stdout",
     "output_type": "stream",
     "text": [
      "88d1d2562f487b840d7ad025d9f2d890b2f8c3c25559588848e47486eb72b9de12d4e533d2\n",
      "88d1d25649241ae37639a2649fa6e9fef5a7b087103d07eb09aa2be4d82ddfab47a1ab4ed8\n"
     ]
    },
    {
     "data": {
      "text/plain": [
       "'flag{CrAFT1nG_sEEd_cAN_b3_fuUuN}\\n'"
      ]
     },
     "execution_count": 6,
     "metadata": {},
     "output_type": "execute_result"
    }
   ],
   "source": [
    " # flag_xor small endian\n",
    "with open('flag2_xor.txt', 'r') as f:\n",
    "    flag_xor = f.read()\n",
    "flag_xor_num = int(flag_xor, 16)\n",
    "flag_xor = [flag_xor[i:i+2] for i in range(0, len(flag_xor), 2)]\n",
    "\n",
    "# flag_xor_rev big endian\n",
    "flag_xor_rev = [''.join(flag_xor[i:i+4][::-1]) for i in range(0, len(flag_xor), 4)]\n",
    "flag_xor_rev = [int(i, 16) for i in flag_xor_rev]\n",
    "for i in flag_xor_rev[:624]:\n",
    "    predictor.setrandbits(i, 32)\n",
    "\n",
    "# generate small endian\n",
    "flag_xor_end = ''.join(flag_xor[624*4:])\n",
    "pred_end = predictor.randbytes(len(flag_xor_end) // 2).hex()\n",
    "print(flag_xor_end)\n",
    "print(pred_end)\n",
    "\n",
    "# calculate flag\n",
    "flag = hex(int(flag_xor_end, 16) ^ int(pred_end, 16))\n",
    "''.join([chr(int(flag[i:i+2], 16)) for i in range(2, len(flag), 2)])"
   ]
  }
 ],
 "metadata": {
  "kernelspec": {
   "display_name": "gomoku",
   "language": "python",
   "name": "python3"
  },
  "language_info": {
   "codemirror_mode": {
    "name": "ipython",
    "version": 3
   },
   "file_extension": ".py",
   "mimetype": "text/x-python",
   "name": "python",
   "nbconvert_exporter": "python",
   "pygments_lexer": "ipython3",
   "version": "3.9.12"
  }
 },
 "nbformat": 4,
 "nbformat_minor": 2
}
