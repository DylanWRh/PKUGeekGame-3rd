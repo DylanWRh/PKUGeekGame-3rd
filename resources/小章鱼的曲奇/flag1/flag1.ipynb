{
 "cells": [
  {
   "cell_type": "code",
   "execution_count": 24,
   "metadata": {},
   "outputs": [],
   "source": [
    "from mt19937predictor import MT19937Predictor\n",
    "from random import Random"
   ]
  },
  {
   "cell_type": "code",
   "execution_count": 25,
   "metadata": {},
   "outputs": [],
   "source": [
    "predictor = MT19937Predictor()"
   ]
  },
  {
   "cell_type": "code",
   "execution_count": 132,
   "metadata": {},
   "outputs": [
    {
     "name": "stdout",
     "output_type": "stream",
     "text": [
      "8f34457cf55e740ed9a0775750374dd490294afcfefb49bbaa03ea747e3917cff7\n",
      "8f34457c93321569a2f236391407008ba15a1599a4a47be4da518f304f5a43b2fd\n"
     ]
    },
    {
     "data": {
      "text/plain": [
       "'flag{RAnD0M_1s_eZ_2_pReD1cT}\\n'"
      ]
     },
     "execution_count": 132,
     "metadata": {},
     "output_type": "execute_result"
    }
   ],
   "source": [
    " # flag_xor small endian\n",
    "with open('flag1_xor.txt', 'r') as f:\n",
    "    flag_xor = f.read()\n",
    "flag_xor_num = int(flag_xor, 16)\n",
    "flag_xor = [flag_xor[i:i+2] for i in range(0, len(flag_xor), 2)]\n",
    "\n",
    "# flag_xor_rev big endian\n",
    "flag_xor_rev = [''.join(flag_xor[i:i+4][::-1]) for i in range(0, len(flag_xor), 4)]\n",
    "flag_xor_rev = [int(i, 16) for i in flag_xor_rev]\n",
    "for i in flag_xor_rev[:624]:\n",
    "    predictor.setrandbits(i, 32)\n",
    "\n",
    "# generate small endian\n",
    "flag_xor_end = ''.join(flag_xor[624*4:])\n",
    "pred_end = predictor.randbytes(len(flag_xor_end) // 2).hex()\n",
    "print(flag_xor_end)\n",
    "print(pred_end)\n",
    "\n",
    "# calculate flag\n",
    "flag = hex(int(flag_xor_end, 16) ^ int(pred_end, 16))\n",
    "''.join([chr(int(flag[i:i+2], 16)) for i in range(2, len(flag), 2)])"
   ]
  }
 ],
 "metadata": {
  "kernelspec": {
   "display_name": "gomoku",
   "language": "python",
   "name": "python3"
  },
  "language_info": {
   "codemirror_mode": {
    "name": "ipython",
    "version": 3
   },
   "file_extension": ".py",
   "mimetype": "text/x-python",
   "name": "python",
   "nbconvert_exporter": "python",
   "pygments_lexer": "ipython3",
   "version": "3.9.12"
  }
 },
 "nbformat": 4,
 "nbformat_minor": 2
}
