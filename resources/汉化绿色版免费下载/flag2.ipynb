{
 "cells": [
  {
   "cell_type": "markdown",
   "metadata": {},
   "source": [
    "I EEE AAAAAA OOOOOO }"
   ]
  },
  {
   "cell_type": "code",
   "execution_count": 21,
   "metadata": {},
   "outputs": [],
   "source": [
    "from tqdm import tqdm\n",
    "def get_hash(a, bias):\n",
    "    return (a * 13337 + bias) % 19260817\n",
    "def get_hash_str(s):\n",
    "    h = 1337\n",
    "    ss = 'AEIOU}'\n",
    "    for i in s:\n",
    "        h = get_hash(h, 11+11*(ss.find(i)))\n",
    "    return h"
   ]
  },
  {
   "cell_type": "code",
   "execution_count": 27,
   "metadata": {},
   "outputs": [
    {
     "name": "stderr",
     "output_type": "stream",
     "text": [
      " 56%|█████▋    | 9/16 [00:25<00:20,  2.88s/it]"
     ]
    },
    {
     "name": "stdout",
     "output_type": "stream",
     "text": [
      "['O', 'O', 'A', 'A', 'A', 'A', 'E', 'A', 'E', 'I', 'E', 'A', 'O', 'O', 'O', 'O']\n"
     ]
    },
    {
     "name": "stderr",
     "output_type": "stream",
     "text": [
      "100%|██████████| 16/16 [00:46<00:00,  2.89s/it]\n"
     ]
    }
   ],
   "source": [
    "import itertools\n",
    "res = ['0'] * 16\n",
    "\n",
    "places = [0, 1, 2, 3, 4, 5, 6, 7, 8, 9, 10, 11, 12, 13, 14, 15]\n",
    "i_places = list(itertools.combinations(range(16), 1))\n",
    "for i_place in tqdm(i_places):\n",
    "    for i in i_place:\n",
    "        places.remove(i)\n",
    "        res[i] = 'I'\n",
    "    e_places = list(itertools.combinations(places, 3))\n",
    "    for e_place in e_places:\n",
    "        for e in e_place:\n",
    "            places.remove(e)\n",
    "            res[e] = 'E'\n",
    "        a_places = list(itertools.combinations(places, 6))\n",
    "        for a_place in a_places:\n",
    "            for a in a_place:\n",
    "                places.remove(a)\n",
    "                res[a] = 'A'\n",
    "            for o in places:\n",
    "                res[o] = 'O'\n",
    "            if get_hash_str(''.join(res)+'}') == 7748521:\n",
    "                print(res)\n",
    "            places = places+list(a_place)\n",
    "        places = places+list(e_place)\n",
    "    places = places+list(i_place)\n"
   ]
  }
 ],
 "metadata": {
  "kernelspec": {
   "display_name": "gomoku",
   "language": "python",
   "name": "python3"
  },
  "language_info": {
   "codemirror_mode": {
    "name": "ipython",
    "version": 3
   },
   "file_extension": ".py",
   "mimetype": "text/x-python",
   "name": "python",
   "nbconvert_exporter": "python",
   "pygments_lexer": "ipython3",
   "version": "3.7.13"
  }
 },
 "nbformat": 4,
 "nbformat_minor": 2
}
