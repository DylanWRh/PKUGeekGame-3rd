{
 "cells": [
  {
   "cell_type": "code",
   "execution_count": 1,
   "metadata": {},
   "outputs": [],
   "source": [
    "import cv2\n",
    "import matplotlib.pyplot as plt\n",
    "from pyzbar.pyzbar import decode\n",
    "import numpy as np\n",
    "import itertools\n",
    "from tqdm import tqdm"
   ]
  },
  {
   "cell_type": "code",
   "execution_count": 2,
   "metadata": {},
   "outputs": [
    {
     "name": "stderr",
     "output_type": "stream",
     "text": [
      "Clipping input data to the valid range for imshow with RGB data ([0..1] for floats or [0..255] for integers).\n"
     ]
    },
    {
     "data": {
      "text/plain": [
       "<matplotlib.image.AxesImage at 0x7efe75a30b80>"
      ]
     },
     "execution_count": 2,
     "metadata": {},
     "output_type": "execute_result"
    },
    {
     "data": {
      "image/png": "[encoded data removed]",
      "text/plain": [
       "<Figure size 640x480 with 1 Axes>"
      ]
     },
     "metadata": {},
     "output_type": "display_data"
    }
   ],
   "source": [
    "pieces = [cv2.imread(f'hard/hard_{i}.png') for i in range(25)]\n",
    "pieces_raw = [cv2.imread(f'hard/hardraw_{i}.png') for i in range(25)]\n",
    "pieces[11] = pieces[0][:, ::-1, :]\n",
    "pieces_raw[11] = pieces_raw[0][:, ::-1, :]\n",
    "h, w, _ = pieces[0].shape\n",
    "res = np.zeros((5*h, 5*w, _)) + 255\n",
    "\n",
    "target = [(0, 0, 11), (0, 1, 9),              (0, 3, 20), (0, 4, 0),\n",
    "          (1, 0, 3),  (1, 1, 4),  (1, 2, 22), (1, 3, 19), (1, 4, 17),\n",
    "                      (2, 1, 6),\n",
    "          (3, 0, 15), (3, 1, 23),             (3, 3, 18), (3, 4, 24),\n",
    "          (4, 0, 13), (4, 1, 7),              (4, 3, 14)]\n",
    "\n",
    "for i, j, n in target:\n",
    "    res[h*(i):h*(i+1), w*(j):w*(j+1)] = pieces_raw[n]\n",
    "rest_places = [(0, 2), (2, 0), (2, 2), (2, 3), (2, 4), (3, 2), (4, 2), (4, 4)]\n",
    "rest_pieces = [8, 5, 16, 12, 10, 1, 2, 21]\n",
    "plt.imshow(res)"
   ]
  },
  {
   "cell_type": "code",
   "execution_count": 3,
   "metadata": {},
   "outputs": [
    {
     "name": "stdout",
     "output_type": "stream",
     "text": [
      "40320\n"
     ]
    },
    {
     "name": "stderr",
     "output_type": "stream",
     "text": [
      " 41%|████      | 16631/40320 [01:04<01:29, 264.26it/s]"
     ]
    },
    {
     "name": "stdout",
     "output_type": "stream",
     "text": [
      "Decoded(data=b'flag{God-Amazing-I-Love-Huawei}', type='QRCODE', rect=Rect(left=3, top=3, width=396, height=396), polygon=[Point(x=3, y=3), Point(x=3, y=395), Point(x=399, y=399), Point(x=395, y=3)], quality=1, orientation='UP')\n",
      "flag{God-Amazing-I-Love-Huawei}\n"
     ]
    },
    {
     "name": "stderr",
     "output_type": "stream",
     "text": [
      "100%|██████████| 40320/40320 [02:35<00:00, 259.51it/s]\n"
     ]
    }
   ],
   "source": [
    "nums = [0, 1, 2, 3, 4, 5, 6, 7]\n",
    "permutations = list(itertools.permutations(nums))\n",
    "print(len(permutations))\n",
    "\n",
    "for ps in tqdm(permutations):\n",
    "    tmp_res = res.copy()\n",
    "    for k, p in enumerate(ps):\n",
    "        i, j = rest_places[k]\n",
    "        n = rest_pieces[p]\n",
    "        tmp_res[h*(i):h*(i+1), w*(j):w*(j+1)]  = pieces_raw[n]\n",
    "    for barcode in decode(tmp_res):\n",
    "        print(barcode)\n",
    "        myData=barcode.data.decode('utf-8')\n",
    "        print(myData)"
   ]
  }
 ],
 "metadata": {
  "kernelspec": {
   "display_name": "gomoku",
   "language": "python",
   "name": "python3"
  },
  "language_info": {
   "codemirror_mode": {
    "name": "ipython",
    "version": 3
   },
   "file_extension": ".py",
   "mimetype": "text/x-python",
   "name": "python",
   "nbconvert_exporter": "python",
   "pygments_lexer": "ipython3",
   "version": "3.8.18"
  }
 },
 "nbformat": 4,
 "nbformat_minor": 2
}
